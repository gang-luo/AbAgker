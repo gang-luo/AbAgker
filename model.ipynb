{
 "cells": [
  {
   "cell_type": "code",
   "execution_count": 1,
   "metadata": {},
   "outputs": [
    {
     "name": "stdout",
     "output_type": "stream",
     "text": [
      "230\n",
      "[221, 210, 122, 109, 220, 211, 220, 214, 214, 214, 224, 214, 221, 208, 219, 212, 230, 215, 229, 214, 224, 208, 223, 215, 217, 217, 113, 104, 221, 210, 221, 210, 180, 167, 180, 167, 180, 167, 180, 167, 180, 167, 180, 167, 180, 167, 180, 167, 180, 167, 180, 167, 180, 167, 180, 167, 180, 167, 180, 167, 180, 167, 122, 109, 122, 109, 122, 109, 122, 109, 122, 109, 122, 109, 122, 109, 215, 214, 215, 214, 215, 214, 215, 214, 215, 214, 215, 214, 215, 214, 215, 214, 215, 214, 215, 214, 215, 214, 215, 214, 215, 214, 215, 214, 215, 214, 215, 214, 215, 214, 215, 214, 215, 214, 215, 214, 215, 214, 215, 214, 215, 214, 215, 214, 215, 214, 215, 214, 215, 214, 215, 214, 215, 214, 215, 214, 215, 214, 215, 214, 215, 214, 215, 214, 215, 214, 215, 214, 215, 214, 215, 214, 215, 214, 215, 214, 215, 214, 215, 214, 215, 214, 215, 214, 215, 214, 220, 211, 220, 211, 220, 211, 220, 211, 220, 211, 220, 211, 220, 211, 220, 211, 220, 211, 220, 211, 220, 211, 220, 214, 220, 214, 220, 214, 220, 214, 214, 214, 214, 214, 214, 214, 214, 214, 214, 214, 214, 214, 214, 214, 214, 214, 214, 214, 214, 214, 224, 214, 224, 214, 224, 214, 224, 214, 224, 214, 224, 214, 224, 214, 224, 214, 224, 214, 224, 214, 224, 214, 224, 214, 224, 214, 224, 214, 224, 214, 224, 214, 224, 214, 224, 214, 224, 214, 224, 214, 224, 214, 224, 214, 224, 214, 224, 214, 224, 214, 224, 214, 224, 214, 224, 214, 224, 214, 224, 214, 224, 214, 224, 214, 224, 214, 224, 214, 224, 214, 224, 214, 221, 208, 221, 208, 221, 208, 221, 208, 221, 208, 221, 208, 221, 208, 221, 208, 221, 208, 219, 212, 219, 212, 218, 214, 220, 214, 220, 214, 220, 214, 220, 214, 220, 214, 220, 214, 220, 214, 220, 214, 216, 217, 216, 217, 216, 217, 213, 216, 213, 216, 213, 216, 213, 216, 220, 214, 220, 214, 230, 215, 230, 215, 230, 215, 230, 215, 230, 215, 230, 215, 230, 215, 230, 215, 230, 215, 230, 215, 230, 215, 229, 214, 229, 214, 229, 214, 229, 214, 229, 214, 229, 214, 229, 214, 229, 214, 229, 214, 229, 214, 229, 214, 224, 208, 224, 208, 224, 208, 224, 208, 224, 208, 224, 208, 224, 208, 224, 208, 224, 208, 224, 208, 224, 208, 224, 208, 224, 208, 224, 208, 224, 208, 224, 208, 223, 215, 223, 215, 223, 215, 223, 215, 217, 217, 217, 217, 113, 104, 113, 104, 113, 104, 113, 104, 113, 104, 113, 104, 113, 104, 113, 104, 113, 104, 113, 104, 113, 104, 113, 104, 113, 104, 113, 104, 113, 104, 113, 104, 113, 104, 113, 104, 113, 104, 113, 104]\n"
     ]
    },
    {
     "name": "stderr",
     "output_type": "stream",
     "text": [
      "/tmp/ipykernel_6676/3532555785.py:26: FutureWarning: \n",
      "\n",
      "`shade` is now deprecated in favor of `fill`; setting `fill=True`.\n",
      "This will become an error in seaborn v0.14.0; please update your code.\n",
      "\n",
      "  sns.kdeplot(seqs_len, shade=True)\n",
      "/usr/local/lib/python3.8/dist-packages/IPython/core/pylabtools.py:152: UserWarning: Glyph 23494 (\\N{CJK UNIFIED IDEOGRAPH-5BC6}) missing from current font.\n",
      "  fig.canvas.print_figure(bytes_io, **kw)\n",
      "/usr/local/lib/python3.8/dist-packages/IPython/core/pylabtools.py:152: UserWarning: Glyph 24230 (\\N{CJK UNIFIED IDEOGRAPH-5EA6}) missing from current font.\n",
      "  fig.canvas.print_figure(bytes_io, **kw)\n",
      "/usr/local/lib/python3.8/dist-packages/IPython/core/pylabtools.py:152: UserWarning: Glyph 26354 (\\N{CJK UNIFIED IDEOGRAPH-66F2}) missing from current font.\n",
      "  fig.canvas.print_figure(bytes_io, **kw)\n",
      "/usr/local/lib/python3.8/dist-packages/IPython/core/pylabtools.py:152: UserWarning: Glyph 32447 (\\N{CJK UNIFIED IDEOGRAPH-7EBF}) missing from current font.\n",
      "  fig.canvas.print_figure(bytes_io, **kw)\n",
      "/usr/local/lib/python3.8/dist-packages/IPython/core/pylabtools.py:152: UserWarning: Glyph 22270 (\\N{CJK UNIFIED IDEOGRAPH-56FE}) missing from current font.\n",
      "  fig.canvas.print_figure(bytes_io, **kw)\n",
      "/usr/local/lib/python3.8/dist-packages/IPython/core/pylabtools.py:152: UserWarning: Glyph 25968 (\\N{CJK UNIFIED IDEOGRAPH-6570}) missing from current font.\n",
      "  fig.canvas.print_figure(bytes_io, **kw)\n",
      "/usr/local/lib/python3.8/dist-packages/IPython/core/pylabtools.py:152: UserWarning: Glyph 20540 (\\N{CJK UNIFIED IDEOGRAPH-503C}) missing from current font.\n",
      "  fig.canvas.print_figure(bytes_io, **kw)\n"
     ]
    },
    {
     "data": {
      "image/png": "[encoded data removed]",
      "text/plain": [
       "<Figure size 640x480 with 1 Axes>"
      ]
     },
     "metadata": {},
     "output_type": "display_data"
    }
   ],
   "source": [
    "import json \n",
    "import matplotlib.pyplot as plt\n",
    "import seaborn as sns\n",
    "import numpy as np\n",
    "\n",
    "# file_dir = \"/root/private_data/luog/AbAgker/data/origin_json/skempi_v2_ed.json\"\n",
    "# file_dir = \"/root/private_data/luog/AbAgker/data/origin_json/skempi_Kall1237.json\"\n",
    "file_dir = \"/root/private_data/luog/AbAgker/data/origin_json/skempi_AbAg_Kall237.json\"\n",
    "\n",
    "seqs_len = []\n",
    "flag=0\n",
    "with open(file_dir,\"r\") as f:\n",
    "    nums_i=json.load(f)\n",
    "    for i in nums_i:\n",
    "        # if len(i[\"seqs\"][\"H\"])>=512 or len(i[\"seqs\"][\"L\"])>=512:\n",
    "        #     flag+=1\n",
    "        # key_i = i[\"seqs\"].keys()\n",
    "        # for k in list(key_i):\n",
    "        #     seqs_len.append(len(i[\"seqs\"][k]))\n",
    "        seqs_len.append(len(i[\"seqs\"][\"H\"]))\n",
    "        seqs_len.append(len(i[\"seqs\"][\"L\"]))\n",
    "\n",
    "print(max(seqs_len))\n",
    "print(seqs_len)\n",
    "# 使用Seaborn库绘制密度曲线图\n",
    "sns.kdeplot(seqs_len, shade=True)\n",
    "plt.title('密度曲线图')\n",
    "plt.xlabel('数值')\n",
    "plt.ylabel('密度')\n",
    "\n",
    "# 显示图表\n",
    "plt.show()\n"
   ]
  },
  {
   "cell_type": "code",
   "execution_count": 4,
   "metadata": {},
   "outputs": [],
   "source": [
    "import json \n",
    "import matplotlib.pyplot as plt\n",
    "import seaborn as sns\n",
    "import numpy as np\n",
    "import random\n",
    "\n",
    "import json\n",
    "\n",
    "\n",
    "def save_to_json(data, json_file):\n",
    "    with open(json_file, 'w', encoding='utf-8') as jsonfile:\n",
    "        json.dump(data, jsonfile, ensure_ascii=False, indent=4)\n",
    "\n",
    "\n",
    "\n",
    "file_dir = \"/root/private_data/luog/AbAgker/data/origin_json/skempi_AbAg_Kall237.json\"\n",
    "\n",
    "pdb = {}\n",
    "with open(file_dir,\"r\") as f:\n",
    "    nums_i=json.load(f)\n",
    "    for i in nums_i:\n",
    "        # print(pdb)\n",
    "        if i[\"pdb\"] not in pdb:\n",
    "            pdb[i[\"pdb\"]] = 1\n",
    "        else:\n",
    "            pdb[i[\"pdb\"]] += 1\n",
    "\n",
    "\n",
    "\n",
    "test=[]\n",
    "test_num= int(0.3 * len(nums_i))\n",
    "list_pdb=list(pdb)\n",
    "random.shuffle(list_pdb)\n",
    "for i in list_pdb:\n",
    "    if test_num - pdb[i]>=3:\n",
    "        test_num -= pdb[i]\n",
    "        test.append(i)\n",
    "    else:\n",
    "        pass\n",
    "\n",
    "\n",
    "data_train = []\n",
    "data_test = []\n",
    "\n",
    "with open(file_dir,\"r\") as f:\n",
    "    nums_i=json.load(f)\n",
    "    for i in nums_i:\n",
    "        if i[\"pdb\"] in test:\n",
    "            data_test.append(i)\n",
    "        else:\n",
    "            data_train.append(i)\n",
    "\n",
    "save_to_json(data_train, \"/root/private_data/luog/AbAgker/data/data_1flod/train_7.json\")\n",
    "save_to_json(data_test, \"/root/private_data/luog/AbAgker/data/data_1flod/test_3.json\")"
   ]
  },
  {
   "cell_type": "code",
   "execution_count": 3,
   "metadata": {},
   "outputs": [
    {
     "name": "stdout",
     "output_type": "stream",
     "text": [
      "288\n",
      "63\n",
      "20\n"
     ]
    }
   ],
   "source": [
    "import json \n",
    "import matplotlib.pyplot as plt\n",
    "import seaborn as sns\n",
    "import numpy as np\n",
    "\n",
    "file_dir1 = \"/root/private_data/luog/AbAgker/data/origin_json/skempi_v2_ed.json\"\n",
    "file_dir2 = \"/root/private_data/luog/AbAgker/data/origin_json/skempi_Kall1237.json\"\n",
    "file_dir3 = \"/root/private_data/luog/AbAgker/data/origin_json/skempi_AbAg_Kall237.json\"\n",
    "\n",
    "seqs = []\n",
    "with open(file_dir1,\"r\") as f:\n",
    "    nums_i=json.load(f)\n",
    "    for i in nums_i:\n",
    "        if i[\"pdb\"] not in seqs:\n",
    "            seqs.append(i[\"pdb\"])\n",
    "    print(len(seqs))\n",
    "\n",
    "seqs = []\n",
    "with open(file_dir2,\"r\") as f:\n",
    "    nums_i=json.load(f)\n",
    "    for i in nums_i:\n",
    "        if i[\"pdb\"] not in seqs:\n",
    "            seqs.append(i[\"pdb\"])\n",
    "    print(len(seqs))\n",
    "\n",
    "seqs = []\n",
    "with open(file_dir3,\"r\") as f:\n",
    "    nums_i=json.load(f)\n",
    "    for i in nums_i:\n",
    "        if i[\"pdb\"] not in seqs:\n",
    "            seqs.append(i[\"pdb\"])\n",
    "    print(len(seqs))\n"
   ]
  },
  {
   "cell_type": "code",
   "execution_count": null,
   "metadata": {},
   "outputs": [],
   "source": []
  }
 ],
 "metadata": {
  "kernelspec": {
   "display_name": "Python 3",
   "language": "python",
   "name": "python3"
  },
  "language_info": {
   "codemirror_mode": {
    "name": "ipython",
    "version": 3
   },
   "file_extension": ".py",
   "mimetype": "text/x-python",
   "name": "python",
   "nbconvert_exporter": "python",
   "pygments_lexer": "ipython3",
   "version": "3.8.10"
  }
 },
 "nbformat": 4,
 "nbformat_minor": 2
}
